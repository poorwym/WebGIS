{
 "cells": [
  {
   "cell_type": "markdown",
   "id": "a66707fe",
   "metadata": {},
   "source": [
    "# Ex13 习题集"
   ]
  },
  {
   "cell_type": "markdown",
   "id": "51970945",
   "metadata": {},
   "source": [
    "## 1 课后作业-基础版"
   ]
  },
  {
   "cell_type": "markdown",
   "id": "0a18a410",
   "metadata": {},
   "source": [
    "作业压缩包中给出了武汉市房价数据（示意）`wh_house_price.csv`和武汉市教育文化POI数据（示意）`wh_poi_edu_cul.geojson`,\n",
    "\n",
    "请根据这两个文件，建立房价样本的教育指标：\n",
    "\n",
    "- 1600米内小学个数：\n",
    "- 1600米内中学个数：\n",
    "\n",
    "将以上两个指标归一化(Min-Max归一化)后直接相加作为教育指标得分，并按照得分降序排列给出结果"
   ]
  },
  {
   "cell_type": "markdown",
   "id": "76ed611b",
   "metadata": {
    "vscode": {
     "languageId": "plaintext"
    }
   },
   "source": []
  },
  {
   "cell_type": "code",
   "execution_count": 2,
   "id": "947eaa47",
   "metadata": {},
   "outputs": [
    {
     "name": "stdout",
     "output_type": "stream",
     "text": [
      "        name  count_primary_school\n",
      "0       花惠社区                    12\n",
      "1    保利海上五月花                     0\n",
      "2  纯水岸东湖天樾小区                     1\n",
      "3       佳海茗苑                     5\n",
      "4       东亭花园                     5\n",
      "        name  count_middle_school\n",
      "0       花惠社区                    8\n",
      "1    保利海上五月花                    1\n",
      "2  纯水岸东湖天樾小区                    0\n",
      "3       佳海茗苑                    2\n",
      "4       东亭花园                    2\n",
      "      id      name area  price  property_fee  green_rate  floor_area_ratio  \\\n",
      "92    93  中电广场尊荣国际  江汉区  21467           1.4      0.2232              9.70   \n",
      "132  133       紫晶城  江汉区  22610           1.8      0.1850              5.49   \n",
      "24    25       都会轩  江汉区  29736           4.5      0.2250              4.77   \n",
      "39    40      台北名居  江岸区  17666           1.5      0.3000             10.40   \n",
      "22    23      船舶广场  江岸区  18438           1.8      0.2200              1.80   \n",
      "\n",
      "        lon_gps    lat_gps                          geometry  \\\n",
      "92   114.274593  30.576444  POINT (12720989.503 3577863.641)   \n",
      "132  114.283609  30.583293   POINT (12721993.16 3578749.236)   \n",
      "24   114.280755  30.585915  POINT (12721675.454 3579088.284)   \n",
      "39   114.282155  30.593792  POINT (12721831.301 3580106.908)   \n",
      "22   114.280799  30.588270  POINT (12721680.352 3579392.815)   \n",
      "\n",
      "     count_primary_school  count_middle_school  \\\n",
      "92                     24                   13   \n",
      "132                    21                   13   \n",
      "24                     18                   12   \n",
      "39                     13                   14   \n",
      "22                     16                   12   \n",
      "\n",
      "     count_primary_school_normalized  count_middle_school_normalized     score  \n",
      "92                          1.000000                        0.928571  1.928571  \n",
      "132                         0.875000                        0.928571  1.803571  \n",
      "24                          0.750000                        0.857143  1.607143  \n",
      "39                          0.541667                        1.000000  1.541667  \n",
      "22                          0.666667                        0.857143  1.523810  \n"
     ]
    }
   ],
   "source": [
    "import numpy\n",
    "import pandas as pd\n",
    "import geopandas as gpd\n",
    "from shapely.geometry import Point\n",
    "\n",
    "# 读取CSV文件为普通DataFrame\n",
    "residential_df = pd.read_csv(\"wh_house_price.csv\")\n",
    "#print(residential_df.head())\n",
    "\n",
    "# 将DataFrame转换为GeoDataFrame\n",
    "geometry = [Point(xy) for xy in zip(residential_df['lon_gps'], residential_df['lat_gps'])]\n",
    "residential_gdf = gpd.GeoDataFrame(residential_df, geometry=geometry)\n",
    "\n",
    "# 设置坐标参考系统为WGS84\n",
    "residential_gdf.crs = \"EPSG:4326\"\n",
    "residential_gdf.to_crs(\"EPSG:3857\", inplace=True)\n",
    "# 读取GeoJSON文件\n",
    "edu_gdf = gpd.read_file(\"wh_poi_edu_cul.geojson\")\n",
    "\n",
    "# 设置坐标参考系统为WGS84\n",
    "edu_gdf.crs = \"EPSG:4326\"\n",
    "edu_gdf.to_crs(\"EPSG:3857\", inplace=True)\n",
    "\n",
    "# print(residential_gdf.head())\n",
    "# print(edu_gdf.head())\n",
    "\n",
    "# 只保留小学的行\n",
    "residential_buffer_gdf = residential_gdf.copy()\n",
    "residential_buffer_gdf[\"buffer\"] = residential_buffer_gdf.geometry.buffer(1600)\n",
    "\n",
    "residential_buffer_gdf.set_geometry(\"buffer\", inplace=True)\n",
    "residential_buffer_gdf.crs = \"EPSG:3857\"\n",
    "# Step 2: 空间连接\n",
    "joined = gpd.sjoin(residential_buffer_gdf, edu_gdf, how='left', predicate='intersects')\n",
    "\n",
    "\n",
    "# Step 3: 只保留小学\n",
    "joined_primary = joined[joined['小类'].str.contains('小学', na=False)]\n",
    "\n",
    "# Step 4: 按原小区 index 统计数量（这是关键）\n",
    "school_count = joined_primary.groupby(joined_primary.index).size()\n",
    "\n",
    "# Step 5: 写入原 GeoDataFrame\n",
    "residential_gdf[\"count_primary_school\"] = residential_gdf.index.map(school_count).fillna(0).astype(int)\n",
    "\n",
    "print(residential_gdf[[\"name\", \"count_primary_school\"]].head())\n",
    "\n",
    "joined_middle = joined[joined['小类'].str.contains('中学', na=False)]\n",
    "# print(joined_middle.head())\n",
    "\n",
    "middle_count = joined_middle.groupby(joined_middle.index).size()\n",
    "residential_gdf[\"count_middle_school\"] = residential_gdf.index.map(middle_count).fillna(0).astype(int)\n",
    "\n",
    "print(residential_gdf[[\"name\", \"count_middle_school\"]].head())\n",
    "\n",
    "def min_max(series):\n",
    "    return (series - series.min()) / (series.max() - series.min())\n",
    "\n",
    "residential_gdf[\"count_primary_school_normalized\"] = min_max(residential_gdf[\"count_primary_school\"])\n",
    "residential_gdf[\"count_middle_school_normalized\"] = min_max(residential_gdf[\"count_middle_school\"])\n",
    "residential_gdf[\"score\"] = residential_gdf[\"count_primary_school_normalized\"] + residential_gdf[\"count_middle_school_normalized\"]\n",
    "\n",
    "result = residential_gdf.sort_values(by=\"score\", ascending=False)\n",
    "print(result.head())\n",
    "\n",
    "\n"
   ]
  },
  {
   "cell_type": "markdown",
   "id": "35f690d8",
   "metadata": {},
   "source": [
    "## 2 课后作业-进阶版"
   ]
  },
  {
   "cell_type": "markdown",
   "id": "6eb260ec",
   "metadata": {},
   "source": [
    "根据课后作业-基础版的结果，完成以下要求：\n",
    "1. 在前端搭建好Cesium框架（**只需要原始的默认框架即可**）\n",
    "2. 在合适位置添加面板，面板包含两个文件选择框和一个按钮，两个文件选择框分别用于选择房价数据和教育文化POI数据。**面板不需要弄得太花里胡哨，不需要非常复杂的CSS，也不需要面板拖动显示隐藏等高级功能**\n",
    "3. 点击按钮后，利用FastAPI接口，以房价数据的文件名和教育文化POI数据的文件名作为查询参数，在后端处理数据，再将带有教育指标的房价数据通过合适的方式返回至前端（提示：GeoJSON也是一种JSON）\n",
    "4. 前端接收到后端返回的数据后，在Cesium的地图上显示并根据教育指标的值对点进行恰当的符号化\n",
    "\n",
    "示例前端界面如下：\n",
    "\n",
    "![界面示例](./界面示例.png)"
   ]
  }
 ],
 "metadata": {
  "kernelspec": {
   "display_name": "base",
   "language": "python",
   "name": "python3"
  },
  "language_info": {
   "codemirror_mode": {
    "name": "ipython",
    "version": 3
   },
   "file_extension": ".py",
   "mimetype": "text/x-python",
   "name": "python",
   "nbconvert_exporter": "python",
   "pygments_lexer": "ipython3",
   "version": "3.13.2"
  }
 },
 "nbformat": 4,
 "nbformat_minor": 5
}
