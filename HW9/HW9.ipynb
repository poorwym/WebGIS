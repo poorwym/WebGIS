{
 "cells": [
  {
   "cell_type": "markdown",
   "id": "9a1701a0",
   "metadata": {},
   "source": [
    "# Ex10 习题集"
   ]
  },
  {
   "cell_type": "markdown",
   "id": "bf6f08c7",
   "metadata": {},
   "source": [
    "## 1 课后作业"
   ]
  },
  {
   "cell_type": "markdown",
   "id": "0675bc1c",
   "metadata": {},
   "source": [
    "### 1.1 Pandas数据结构基础"
   ]
  },
  {
   "cell_type": "markdown",
   "id": "996c957d",
   "metadata": {},
   "source": [
    "现在有一组学生的成绩如下。其中各门课成绩分别为语文、数学、英语、物理、化学、生物。\n",
    "```\n",
    "['语文', '数学', '英语', '物理', '化学', '生物']\n",
    "'小明': [90, 85, 88, 92, 95, 89]\n",
    "'小红': [78, 82, 80, 75, 70, 85]\n",
    "'小刚': [85, 90, 92, 88, 91, 87]\n",
    "'小丽': [95, 98, 97, 96, 99, 94]\n",
    "'小华': [80, 75, 78, 82, 85, 88]\n",
    "```\n",
    "请完成以下任务：\n",
    "1. 将这组数据转换合适的Pandas数据结构，标注每门课的成绩名称，并设置学生姓名为索引\n",
    "2. 计算每个学生的平均成绩，并将结果添加到DataFrame中，列名为\"平均分\"\n",
    "3. 按照数学成绩从高到低对DataFrame进行排序，并输出排序后的结果"
   ]
  },
  {
   "cell_type": "code",
   "execution_count": 1,
   "id": "ed555f52",
   "metadata": {},
   "outputs": [
    {
     "name": "stdout",
     "output_type": "stream",
     "text": [
      "原始数据：\n",
      "    语文  数学  英语  物理  化学  生物\n",
      "小明  90  85  88  92  95  89\n",
      "小红  78  82  80  75  70  85\n",
      "小刚  85  90  92  88  91  87\n",
      "小丽  95  98  97  96  99  94\n",
      "小华  80  75  78  82  85  88\n",
      "\n",
      "添加平均分后的数据：\n",
      "    语文  数学  英语  物理  化学  生物    平均分\n",
      "小明  90  85  88  92  95  89  89.83\n",
      "小红  78  82  80  75  70  85  78.33\n",
      "小刚  85  90  92  88  91  87  88.83\n",
      "小丽  95  98  97  96  99  94  96.50\n",
      "小华  80  75  78  82  85  88  81.33\n",
      "\n",
      "按数学成绩从高到低排序后的结果：\n",
      "    语文  数学  英语  物理  化学  生物    平均分\n",
      "小丽  95  98  97  96  99  94  96.50\n",
      "小刚  85  90  92  88  91  87  88.83\n",
      "小明  90  85  88  92  95  89  89.83\n",
      "小红  78  82  80  75  70  85  78.33\n",
      "小华  80  75  78  82  85  88  81.33\n"
     ]
    }
   ],
   "source": [
    "import pandas as pd\n",
    "import numpy as np\n",
    "\n",
    "# 创建数据\n",
    "subjects = ['语文', '数学', '英语', '物理', '化学', '生物']\n",
    "data = {\n",
    "    '小明': [90, 85, 88, 92, 95, 89],\n",
    "    '小红': [78, 82, 80, 75, 70, 85],\n",
    "    '小刚': [85, 90, 92, 88, 91, 87],\n",
    "    '小丽': [95, 98, 97, 96, 99, 94],\n",
    "    '小华': [80, 75, 78, 82, 85, 88]\n",
    "}\n",
    "\n",
    "# 1. 将数据转换为DataFrame，并设置学生姓名为索引\n",
    "df = pd.DataFrame(data).T \n",
    "df.columns = subjects \n",
    "print(\"原始数据：\")\n",
    "print(df)\n",
    "\n",
    "# 2. 计算每个学生的平均成绩，并添加到DataFrame中\n",
    "df['平均分'] = df.mean(axis=1).round(2) \n",
    "print(\"\\n添加平均分后的数据：\")\n",
    "print(df)\n",
    "\n",
    "# 3. 按照数学成绩从高到低排序\n",
    "df_sorted = df.sort_values(by='数学', ascending=False)\n",
    "print(\"\\n按数学成绩从高到低排序后的结果：\")\n",
    "print(df_sorted)\n"
   ]
  },
  {
   "cell_type": "markdown",
   "id": "37c056e7",
   "metadata": {},
   "source": [
    "### 1.2 表格数据的处理"
   ]
  },
  {
   "cell_type": "markdown",
   "id": "2a51d6e7",
   "metadata": {},
   "source": [
    "市.xlsx中提供了全国各市的代码、名称以及所对应的省代码和名称等数据；浙江省人口数据.csv中提供了浙江省各市的市代码和人口数据。请完成如下要求：\n",
    "1. 从市.xlsx中找出**浙江省**内各市（提示：pandas读取CSV的函数为`pd.read_csv`，读取Excel的函数为`pd.read_excel`）\n",
    "2. 将浙江省的各市数据与浙江省人口数据进行连接，得到浙江省人口数据表，将其导出为Excel文件“zhejiang_pop.xlsx”（在data目录下，提示：pandas导出Excel的函数为`df.to_excel`，导出CSV的函数为`df.to_csv`）。要求：人口列需命名为“人口”\n",
    "3. 按照“类型”列统计各类型的市的总人口平均值"
   ]
  },
  {
   "cell_type": "code",
   "execution_count": 16,
   "id": "e59082f9",
   "metadata": {},
   "outputs": [
    {
     "name": "stdout",
     "output_type": "stream",
     "text": [
      "      省代码    省     市代码     市   类型\n",
      "0  110000  北京市  110000   北京市  直辖市\n",
      "1  120000  天津市  120000   天津市  直辖市\n",
      "2  130000  河北省  130100  石家庄市  地级市\n",
      "3  130000  河北省  130200   唐山市  地级市\n",
      "4  130000  河北省  130300  秦皇岛市  地级市\n",
      "     CODE       POP\n",
      "0  330100  11936010\n",
      "1  330200   9404283\n",
      "2  330300   9572903\n",
      "3  330400   5400868\n",
      "4  330500   3367579\n",
      "     CODE        人口     市代码    市    类型\n",
      "0  330100  11936010  330100  杭州市  副省级市\n",
      "1  330200   9404283  330200  宁波市  副省级市\n",
      "2  330300   9572903  330300  温州市   地级市\n",
      "3  330400   5400868  330400  嘉兴市   地级市\n",
      "4  330500   3367579  330500  湖州市   地级市\n",
      "城市类型： ['副省级市' '地级市']\n",
      "副省级市的人口平均值为：10670146\n",
      "地级市的人口平均值为：4803032\n"
     ]
    }
   ],
   "source": [
    "df_1 = pd.read_excel(\"./data/市.xlsx\")\n",
    "df_2 = pd.read_csv(\"./data/浙江省人口数据.csv\")\n",
    "print(df_1.head())\n",
    "print(df_2.head())\n",
    "\n",
    "# 筛选出浙江省的数据\n",
    "zj_cities = df_1[df_1[\"省\"] == \"浙江省\"]\n",
    "# 使用merge函数连接两个数据框\n",
    "df_2 = pd.merge(df_2, zj_cities[[\"市代码\", \"市\", \"类型\"]], left_on=\"CODE\", right_on=\"市代码\", how=\"left\")\n",
    "# 重命名列\n",
    "df_2.rename(columns={\"POP\": \"人口\"}, inplace=True)\n",
    "print(df_2.head())\n",
    "\n",
    "df_2.to_excel(\"./data/zhejiang_pop.xlsx\", index=False)\n",
    "\n",
    "city_type = df_2[\"类型\"].unique()\n",
    "print(\"城市类型：\", city_type)\n",
    "average_pop = {}\n",
    "for i in city_type:\n",
    "    df_city = df_2[df_2[\"类型\"] == i]\n",
    "    average_pop[i] = df_city[\"人口\"].mean()\n",
    "\n",
    "for city, pop in average_pop.items():\n",
    "    print(f\"{city}的人口平均值为：{int(pop)}\")\n",
    "\n",
    "\n",
    "\n",
    "\n"
   ]
  }
 ],
 "metadata": {
  "kernelspec": {
   "display_name": "base",
   "language": "python",
   "name": "python3"
  },
  "language_info": {
   "codemirror_mode": {
    "name": "ipython",
    "version": 3
   },
   "file_extension": ".py",
   "mimetype": "text/x-python",
   "name": "python",
   "nbconvert_exporter": "python",
   "pygments_lexer": "ipython3",
   "version": "3.12.2"
  }
 },
 "nbformat": 4,
 "nbformat_minor": 5
}
